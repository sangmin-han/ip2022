{
 "cells": [
  {
   "cell_type": "code",
   "execution_count": 55,
   "metadata": {},
   "outputs": [],
   "source": [
    "import cv2\n",
    "import numpy as np\n",
    "\n",
    "\n",
    "img = cv2.imread('flower.jpg')"
   ]
  },
  {
   "cell_type": "code",
   "execution_count": 56,
   "metadata": {},
   "outputs": [
    {
     "name": "stdout",
     "output_type": "stream",
     "text": [
      "[70 87 74]\n"
     ]
    }
   ],
   "source": [
    "px = img[100,100]\n",
    "print(px)"
   ]
  },
  {
   "cell_type": "code",
   "execution_count": 57,
   "metadata": {},
   "outputs": [
    {
     "name": "stdout",
     "output_type": "stream",
     "text": [
      "70\n"
     ]
    }
   ],
   "source": [
    "blue = img[100,100,0]\n",
    "print(blue)\n"
   ]
  },
  {
   "cell_type": "code",
   "execution_count": 58,
   "metadata": {},
   "outputs": [
    {
     "name": "stdout",
     "output_type": "stream",
     "text": [
      "[70 87 74]\n"
     ]
    }
   ],
   "source": [
    "img[0:100, 0:100] = [255, 0, 0]\n",
    "print(img[100,100])\n"
   ]
  },
  {
   "cell_type": "code",
   "execution_count": 59,
   "metadata": {},
   "outputs": [
    {
     "data": {
      "text/plain": [
       "74"
      ]
     },
     "execution_count": 59,
     "metadata": {},
     "output_type": "execute_result"
    }
   ],
   "source": [
    "img.item(100,100,2)"
   ]
  },
  {
   "cell_type": "code",
   "execution_count": 73,
   "metadata": {},
   "outputs": [
    {
     "data": {
      "text/plain": [
       "150"
      ]
     },
     "execution_count": 73,
     "metadata": {},
     "output_type": "execute_result"
    }
   ],
   "source": [
    "for x in range(100):\n",
    "    for y in range(300):\n",
    "        img.itemset((100+x,100+y,2),150)\n",
    "img.item(100,100,2)"
   ]
  },
  {
   "cell_type": "code",
   "execution_count": 74,
   "metadata": {},
   "outputs": [
    {
     "name": "stdout",
     "output_type": "stream",
     "text": [
      "(1439, 1920, 3)\n"
     ]
    }
   ],
   "source": [
    "print(img.shape)"
   ]
  },
  {
   "cell_type": "code",
   "execution_count": 75,
   "metadata": {},
   "outputs": [
    {
     "name": "stdout",
     "output_type": "stream",
     "text": [
      "uint8\n"
     ]
    }
   ],
   "source": [
    "print(img.dtype)"
   ]
  },
  {
   "cell_type": "code",
   "execution_count": 76,
   "metadata": {},
   "outputs": [],
   "source": [
    "ball = img[100:200, 200:300]\n",
    "img[100:200, 200:300] = ball\n",
    "\n"
   ]
  },
  {
   "cell_type": "code",
   "execution_count": 77,
   "metadata": {},
   "outputs": [],
   "source": [
    "cv2.imshow('image',img)\n",
    "cv2.waitKey(0)\n",
    "cv2.destroyAllWindows()"
   ]
  },
  {
   "cell_type": "code",
   "execution_count": 65,
   "metadata": {},
   "outputs": [],
   "source": [
    "b,g,r = cv2.split(img)\n",
    "img = cv2.merge((b,g,r))"
   ]
  },
  {
   "cell_type": "code",
   "execution_count": 66,
   "metadata": {},
   "outputs": [
    {
     "name": "stdout",
     "output_type": "stream",
     "text": [
      "[[255 255 255 ...  32  32  32]\n",
      " [255 255 255 ...  32  32  32]\n",
      " [255 255 255 ...  32  32  32]\n",
      " ...\n",
      " [ 38  38  38 ... 204 204 204]\n",
      " [ 38  38  38 ... 204 204 204]\n",
      " [ 39  39  39 ... 204 204 204]]\n"
     ]
    }
   ],
   "source": [
    "print(b)"
   ]
  },
  {
   "cell_type": "code",
   "execution_count": 67,
   "metadata": {},
   "outputs": [
    {
     "name": "stdout",
     "output_type": "stream",
     "text": [
      "[[  0   0   0 ...  51  51  51]\n",
      " [  0   0   0 ...  51  51  51]\n",
      " [  0   0   0 ...  51  51  51]\n",
      " ...\n",
      " [ 41  41  41 ... 183 183 183]\n",
      " [ 41  41  41 ... 183 183 183]\n",
      " [ 42  42  42 ... 183 183 183]]\n"
     ]
    }
   ],
   "source": [
    "print(g)"
   ]
  },
  {
   "cell_type": "code",
   "execution_count": 68,
   "metadata": {},
   "outputs": [
    {
     "name": "stdout",
     "output_type": "stream",
     "text": [
      "[[  0   0   0 ...  48  48  48]\n",
      " [  0   0   0 ...  48  48  48]\n",
      " [  0   0   0 ...  48  48  48]\n",
      " ...\n",
      " [ 39  39  39 ... 192 192 192]\n",
      " [ 39  39  39 ... 192 192 192]\n",
      " [ 40  40  40 ... 192 192 192]]\n"
     ]
    }
   ],
   "source": [
    "print(r)"
   ]
  },
  {
   "cell_type": "code",
   "execution_count": 69,
   "metadata": {},
   "outputs": [
    {
     "name": "stdout",
     "output_type": "stream",
     "text": [
      "[[[255   0   0]\n",
      "  [255   0   0]\n",
      "  [255   0   0]\n",
      "  ...\n",
      "  [ 32  51  48]\n",
      "  [ 32  51  48]\n",
      "  [ 32  51  48]]\n",
      "\n",
      " [[255   0   0]\n",
      "  [255   0   0]\n",
      "  [255   0   0]\n",
      "  ...\n",
      "  [ 32  51  48]\n",
      "  [ 32  51  48]\n",
      "  [ 32  51  48]]\n",
      "\n",
      " [[255   0   0]\n",
      "  [255   0   0]\n",
      "  [255   0   0]\n",
      "  ...\n",
      "  [ 32  51  48]\n",
      "  [ 32  51  48]\n",
      "  [ 32  51  48]]\n",
      "\n",
      " ...\n",
      "\n",
      " [[ 38  41  39]\n",
      "  [ 38  41  39]\n",
      "  [ 38  41  39]\n",
      "  ...\n",
      "  [204 183 192]\n",
      "  [204 183 192]\n",
      "  [204 183 192]]\n",
      "\n",
      " [[ 38  41  39]\n",
      "  [ 38  41  39]\n",
      "  [ 38  41  39]\n",
      "  ...\n",
      "  [204 183 192]\n",
      "  [204 183 192]\n",
      "  [204 183 192]]\n",
      "\n",
      " [[ 39  42  40]\n",
      "  [ 39  42  40]\n",
      "  [ 39  42  40]\n",
      "  ...\n",
      "  [204 183 192]\n",
      "  [204 183 192]\n",
      "  [204 183 192]]]\n"
     ]
    }
   ],
   "source": [
    "print(img)"
   ]
  },
  {
   "cell_type": "code",
   "execution_count": 70,
   "metadata": {},
   "outputs": [],
   "source": [
    "img[:,:,2] = 0"
   ]
  },
  {
   "cell_type": "code",
   "execution_count": 71,
   "metadata": {},
   "outputs": [
    {
     "data": {
      "image/png": "[encoded data removed]",
      "text/plain": [
       "<Figure size 432x288 with 8 Axes>"
      ]
     },
     "metadata": {
      "needs_background": "light"
     },
     "output_type": "display_data"
    }
   ],
   "source": [
    "import cv2\n",
    "import numpy as np\n",
    "from matplotlib import pyplot as plt\n",
    "\n",
    "BLUE = [255,0,0]\n",
    "\n",
    "img1 = cv2.imread('opencv.png')\n",
    "\n",
    "replicate = cv2.copyMakeBorder(img1,10,10,10,10,cv2.BORDER_REPLICATE)\n",
    "reflect = cv2.copyMakeBorder(img1,10,10,10,10,cv2.BORDER_REFLECT)\n",
    "reflect101 = cv2.copyMakeBorder(img1,10,10,10,10,cv2.BORDER_REFLECT_101)\n",
    "wrap = cv2.copyMakeBorder(img1,10,10,10,10,cv2.BORDER_WRAP)\n",
    "constant= cv2.copyMakeBorder(img1,10,10,10,10,cv2.BORDER_CONSTANT,value=BLUE)\n",
    "\n",
    "plt.subplot(241),plt.imshow(img1,'gray'),plt.title('ORIGINAL')\n",
    "plt.subplot(242),plt.imshow(replicate,'gray'),plt.title('REPLICATE')\n",
    "plt.subplot(243),plt.imshow(reflect,'gray'),plt.title('REFLECT')\n",
    "plt.subplot(244),plt.imshow(reflect101,'gray'),plt.title('REFLECT_101')\n",
    "plt.subplot(245),plt.imshow(wrap,'gray'),plt.title('WRAP')\n",
    "plt.subplot(246),plt.imshow(constant,'gray'),plt.title('CONSTANT')\n",
    "plt.subplot(247),plt.imshow(img1,'gray'),plt.title('ORIGINAL')\n",
    "plt.subplot(248),plt.imshow(img1,'gray'),plt.title('ORIGINAL')\n",
    "\n",
    "\n",
    "plt.show()"
   ]
  }
 ],
 "metadata": {
  "interpreter": {
   "hash": "83249850feb0cf551fff1b96b369fd218b3e5b8222ceed9da916167d803dd93b"
  },
  "kernelspec": {
   "display_name": "Python 3.8.13 ('opencv')",
   "language": "python",
   "name": "python3"
  },
  "language_info": {
   "codemirror_mode": {
    "name": "ipython",
    "version": 3
   },
   "file_extension": ".py",
   "mimetype": "text/x-python",
   "name": "python",
   "nbconvert_exporter": "python",
   "pygments_lexer": "ipython3",
   "version": "3.8.13"
  },
  "orig_nbformat": 4
 },
 "nbformat": 4,
 "nbformat_minor": 2
}
