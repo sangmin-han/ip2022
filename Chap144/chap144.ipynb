{
 "cells": [
  {
   "cell_type": "markdown",
   "metadata": {},
   "source": [
    "# 1.4.4 Smoothing Images"
   ]
  },
  {
   "cell_type": "markdown",
   "metadata": {},
   "source": [
    "## Kernel Convolution"
   ]
  },
  {
   "cell_type": "code",
   "execution_count": 78,
   "metadata": {},
   "outputs": [],
   "source": [
    "import cv2\n",
    "import numpy as np\n",
    "from matplotlib import pyplot as plt"
   ]
  },
  {
   "cell_type": "code",
   "execution_count": 79,
   "metadata": {},
   "outputs": [],
   "source": [
    "l=1\n",
    "kernel = np.array([[1,4,6,4,1],[4,16,24,16,4],[6,24,-476,24,6],[4,16,24,16,4],[1,4,6,4,1]],np.float32)/-256"
   ]
  },
  {
   "cell_type": "code",
   "execution_count": 80,
   "metadata": {},
   "outputs": [
    {
     "data": {
      "text/plain": [
       "array([[-0.00390625, -0.015625  , -0.0234375 , -0.015625  , -0.00390625],\n",
       "       [-0.015625  , -0.0625    , -0.09375   , -0.0625    , -0.015625  ],\n",
       "       [-0.0234375 , -0.09375   ,  1.859375  , -0.09375   , -0.0234375 ],\n",
       "       [-0.015625  , -0.0625    , -0.09375   , -0.0625    , -0.015625  ],\n",
       "       [-0.00390625, -0.015625  , -0.0234375 , -0.015625  , -0.00390625]],\n",
       "      dtype=float32)"
      ]
     },
     "execution_count": 80,
     "metadata": {},
     "output_type": "execute_result"
    }
   ],
   "source": [
    "kernel"
   ]
  },
  {
   "cell_type": "code",
   "execution_count": 81,
   "metadata": {},
   "outputs": [],
   "source": [
    "img = np.random.randint(10, size=(12,12))\n",
    "#img = np.ones((10,10),np.float32)"
   ]
  },
  {
   "cell_type": "code",
   "execution_count": 82,
   "metadata": {},
   "outputs": [
    {
     "data": {
      "text/plain": [
       "array([[0, 3, 1, 5, 4, 8, 1, 4, 0, 9, 0, 4],\n",
       "       [4, 2, 0, 7, 1, 6, 9, 5, 3, 3, 0, 0],\n",
       "       [9, 5, 3, 2, 0, 8, 1, 8, 7, 3, 7, 1],\n",
       "       [8, 0, 8, 8, 1, 5, 5, 7, 9, 8, 5, 4],\n",
       "       [1, 1, 9, 2, 6, 6, 3, 0, 4, 2, 7, 7],\n",
       "       [9, 5, 0, 8, 5, 8, 7, 9, 1, 1, 7, 7],\n",
       "       [6, 4, 9, 0, 7, 8, 6, 8, 8, 2, 2, 7],\n",
       "       [1, 8, 5, 1, 3, 6, 0, 2, 5, 4, 7, 3],\n",
       "       [8, 2, 0, 3, 0, 3, 2, 3, 2, 7, 4, 5],\n",
       "       [4, 2, 7, 4, 4, 3, 1, 0, 8, 4, 2, 5],\n",
       "       [8, 7, 0, 4, 2, 1, 2, 5, 7, 5, 8, 6],\n",
       "       [5, 4, 8, 1, 5, 8, 2, 6, 4, 3, 1, 4]])"
      ]
     },
     "execution_count": 82,
     "metadata": {},
     "output_type": "execute_result"
    }
   ],
   "source": [
    "img"
   ]
  },
  {
   "cell_type": "code",
   "execution_count": 83,
   "metadata": {},
   "outputs": [],
   "source": [
    "h,w=img.shape"
   ]
  },
  {
   "cell_type": "code",
   "execution_count": 84,
   "metadata": {},
   "outputs": [
    {
     "name": "stdout",
     "output_type": "stream",
     "text": [
      "12 12\n"
     ]
    }
   ],
   "source": [
    "print(h,w)"
   ]
  },
  {
   "cell_type": "code",
   "execution_count": 85,
   "metadata": {},
   "outputs": [],
   "source": [
    "#[*range(-2,3)]"
   ]
  },
  {
   "cell_type": "code",
   "execution_count": 86,
   "metadata": {},
   "outputs": [
    {
     "name": "stderr",
     "output_type": "stream",
     "text": [
      "C:\\Users\\U\\AppData\\Local\\Temp\\ipykernel_13524\\2160328971.py:1: DeprecationWarning: `np.int` is a deprecated alias for the builtin `int`. To silence this warning, use `int` by itself. Doing this will not modify any behavior and is safe. When replacing `np.int`, you may wish to use e.g. `np.int64` or `np.int32` to specify the precision. If you wish to review your current use, check the release note link for additional information.\n",
      "Deprecated in NumPy 1.20; for more details and guidance: https://numpy.org/devdocs/release/1.20.0-notes.html#deprecations\n",
      "  dst = np.zeros((h,w),np.int)\n"
     ]
    }
   ],
   "source": [
    "dst = np.zeros((h,w),np.int)"
   ]
  },
  {
   "cell_type": "code",
   "execution_count": 87,
   "metadata": {},
   "outputs": [],
   "source": [
    "for i in range(l,h-l):\n",
    "    for j in range(l,w-l):\n",
    "        t=0\n",
    "        for p in range(-l,l+1):\n",
    "            for q in range(-l,l+1):\n",
    "                t += kernel[p+l,q+l]*img[i+p,j+q]\n",
    "        dst[i,j]=t        "
   ]
  },
  {
   "cell_type": "code",
   "execution_count": 88,
   "metadata": {},
   "outputs": [
    {
     "data": {
      "text/plain": [
       "array([[0, 3, 1, 5, 4, 8, 1, 4, 0, 9, 0, 4],\n",
       "       [4, 2, 0, 7, 1, 6, 9, 5, 3, 3, 0, 0],\n",
       "       [9, 5, 3, 2, 0, 8, 1, 8, 7, 3, 7, 1],\n",
       "       [8, 0, 8, 8, 1, 5, 5, 7, 9, 8, 5, 4],\n",
       "       [1, 1, 9, 2, 6, 6, 3, 0, 4, 2, 7, 7],\n",
       "       [9, 5, 0, 8, 5, 8, 7, 9, 1, 1, 7, 7],\n",
       "       [6, 4, 9, 0, 7, 8, 6, 8, 8, 2, 2, 7],\n",
       "       [1, 8, 5, 1, 3, 6, 0, 2, 5, 4, 7, 3],\n",
       "       [8, 2, 0, 3, 0, 3, 2, 3, 2, 7, 4, 5],\n",
       "       [4, 2, 7, 4, 4, 3, 1, 0, 8, 4, 2, 5],\n",
       "       [8, 7, 0, 4, 2, 1, 2, 5, 7, 5, 8, 6],\n",
       "       [5, 4, 8, 1, 5, 8, 2, 6, 4, 3, 1, 4]])"
      ]
     },
     "execution_count": 88,
     "metadata": {},
     "output_type": "execute_result"
    }
   ],
   "source": [
    "img"
   ]
  },
  {
   "cell_type": "code",
   "execution_count": 89,
   "metadata": {},
   "outputs": [
    {
     "data": {
      "text/plain": [
       "array([[ 0,  0,  0,  0,  0,  0,  0,  0,  0,  0,  0,  0],\n",
       "       [ 0,  4,  2,  0, 13,  0, 13, 11,  3, 12,  0,  0],\n",
       "       [ 0, 13, 13,  0,  8,  7, 11, 14, 12,  7,  6,  0],\n",
       "       [ 0, 15,  1,  9,  9,  3, -1,  5,  1, 11, 11,  0],\n",
       "       [ 0, -1, 13,  7, 13, 11, 15,  0,  0, 11, 11,  0],\n",
       "       [ 0, 15, -1, 11, 12,  8, 12, 13,  2,  2, 11,  0],\n",
       "       [ 0,  7,  0,  4,  9, -2,  1,  7,  6, 11,  3,  0],\n",
       "       [ 0, -1,  4,  0,  4,  2,  4,  2, 11,  5,  7,  0],\n",
       "       [ 0, 12,  6,  6,  4,  1,  0, 14,  5,  2,  7,  0],\n",
       "       [ 0, -1,  6,  2,  0,  3,  8, 11,  7, 13,  9,  0],\n",
       "       [ 0, 13,  0,  8, 13,  2, 10,  5,  3,  0,  5,  0],\n",
       "       [ 0,  0,  0,  0,  0,  0,  0,  0,  0,  0,  0,  0]])"
      ]
     },
     "execution_count": 89,
     "metadata": {},
     "output_type": "execute_result"
    }
   ],
   "source": [
    "dst"
   ]
  },
  {
   "cell_type": "code",
   "execution_count": 90,
   "metadata": {},
   "outputs": [],
   "source": [
    "img = cv2.imread('lena.png', 0)"
   ]
  },
  {
   "cell_type": "code",
   "execution_count": 91,
   "metadata": {},
   "outputs": [],
   "source": [
    "h,w=img.shape"
   ]
  },
  {
   "cell_type": "code",
   "execution_count": 92,
   "metadata": {},
   "outputs": [],
   "source": [
    "dst = np.zeros((h-2*l,w-2*l),np.uint8)"
   ]
  },
  {
   "cell_type": "code",
   "execution_count": 93,
   "metadata": {},
   "outputs": [],
   "source": [
    "for i in range(l,h-l):\n",
    "    for j in range(l,w-l):\n",
    "        t=0\n",
    "        for p in range(-l,l+1):\n",
    "            for q in range(-l,l+1):\n",
    "                t += kernel[p+l,q+l]*img[i+p,j+q]\n",
    "        dst[i-l,j-l]=t "
   ]
  },
  {
   "cell_type": "code",
   "execution_count": 94,
   "metadata": {},
   "outputs": [],
   "source": [
    "cv2.imshow('img',img)\n",
    "cv2.imshow('dst',dst)\n",
    "cv2.waitKey(0)\n",
    "cv2.destroyAllWindows()"
   ]
  },
  {
   "cell_type": "code",
   "execution_count": null,
   "metadata": {},
   "outputs": [],
   "source": []
  }
 ],
 "metadata": {
  "kernelspec": {
   "display_name": "Python 3.8.13 ('opencv')",
   "language": "python",
   "name": "python3"
  },
  "language_info": {
   "codemirror_mode": {
    "name": "ipython",
    "version": 3
   },
   "file_extension": ".py",
   "mimetype": "text/x-python",
   "name": "python",
   "nbconvert_exporter": "python",
   "pygments_lexer": "ipython3",
   "version": "3.8.13"
  },
  "vscode": {
   "interpreter": {
    "hash": "e57aef5a80de0c0e424b44d9745d307f35d239b835cdc17a2138c01d18098c92"
   }
  }
 },
 "nbformat": 4,
 "nbformat_minor": 4
}
