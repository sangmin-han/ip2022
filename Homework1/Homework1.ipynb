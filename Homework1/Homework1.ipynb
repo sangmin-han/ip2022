{
 "cells": [
  {
   "cell_type": "code",
   "execution_count": 2,
   "metadata": {},
   "outputs": [
    {
     "ename": "error",
     "evalue": "OpenCV(4.6.0) D:\\a\\opencv-python\\opencv-python\\opencv\\modules\\highgui\\src\\window_w32.cpp:2581: error: (-27:Null pointer) NULL window: 'image' in function 'cvGetTrackbarPos'\n",
     "output_type": "error",
     "traceback": [
      "\u001b[1;31m---------------------------------------------------------------------------\u001b[0m",
      "\u001b[1;31merror\u001b[0m                                     Traceback (most recent call last)",
      "\u001b[1;32mc:\\Users\\sangm\\Homework1.ipynb 셀 1\u001b[0m in \u001b[0;36m<cell line: 30>\u001b[1;34m()\u001b[0m\n\u001b[0;32m     <a href='vscode-notebook-cell:/c%3A/Users/sangm/Homework1.ipynb#W1sZmlsZQ%3D%3D?line=25'>26</a>\u001b[0m cv2\u001b[39m.\u001b[39mcreateTrackbar(\u001b[39m\"\u001b[39m\u001b[39mvalue\u001b[39m\u001b[39m\"\u001b[39m, \u001b[39m\"\u001b[39m\u001b[39mimage\u001b[39m\u001b[39m\"\u001b[39m, \u001b[39m0\u001b[39m, \u001b[39m255\u001b[39m, nothing)\n\u001b[0;32m     <a href='vscode-notebook-cell:/c%3A/Users/sangm/Homework1.ipynb#W1sZmlsZQ%3D%3D?line=28'>29</a>\u001b[0m \u001b[39mwhile\u001b[39;00m(\u001b[39m1\u001b[39m):\n\u001b[1;32m---> <a href='vscode-notebook-cell:/c%3A/Users/sangm/Homework1.ipynb#W1sZmlsZQ%3D%3D?line=29'>30</a>\u001b[0m     value \u001b[39m=\u001b[39m cv2\u001b[39m.\u001b[39;49mgetTrackbarPos(\u001b[39m\"\u001b[39;49m\u001b[39mvalue\u001b[39;49m\u001b[39m\"\u001b[39;49m, \u001b[39m\"\u001b[39;49m\u001b[39mimage\u001b[39;49m\u001b[39m\"\u001b[39;49m)\n\u001b[0;32m     <a href='vscode-notebook-cell:/c%3A/Users/sangm/Homework1.ipynb#W1sZmlsZQ%3D%3D?line=30'>31</a>\u001b[0m     dst \u001b[39m=\u001b[39m cv2\u001b[39m.\u001b[39maddWeighted(img2, value\u001b[39m/\u001b[39m\u001b[39m100\u001b[39m, img2, \u001b[39m1\u001b[39m \u001b[39m-\u001b[39m value\u001b[39m/\u001b[39m\u001b[39m100\u001b[39m, \u001b[39m0\u001b[39m)\n\u001b[0;32m     <a href='vscode-notebook-cell:/c%3A/Users/sangm/Homework1.ipynb#W1sZmlsZQ%3D%3D?line=31'>32</a>\u001b[0m     \u001b[39mfor\u001b[39;00m x \u001b[39min\u001b[39;00m \u001b[39mrange\u001b[39m(\u001b[39m150\u001b[39m):\n",
      "\u001b[1;31merror\u001b[0m: OpenCV(4.6.0) D:\\a\\opencv-python\\opencv-python\\opencv\\modules\\highgui\\src\\window_w32.cpp:2581: error: (-27:Null pointer) NULL window: 'image' in function 'cvGetTrackbarPos'\n"
     ]
    }
   ],
   "source": [
    "import cv2\n",
    "import numpy as np\n",
    "\n",
    "drawing = False\n",
    "mode = True\n",
    "ix,iy = -1,-1\n",
    "\n",
    "img1 = cv2.imread('photo1.jpg')\n",
    "img2 = cv2.imread('photo2.jpg')\n",
    "\n",
    "\n",
    "def nothing(a):\n",
    "    pass\n",
    "\n",
    "def draw_circle(event,x,y,flags,param):\n",
    "    global ix,iy,drawing,mode\n",
    "    if event == cv2.EVENT_LBUTTONDOWN:\n",
    "        drawing = False\n",
    "        ix,iy = x,y\n",
    "\n",
    "\n",
    "img = np.zeros((512,512,3), np.uint8)\n",
    "cv2.namedWindow('image')\n",
    "cv2.setMouseCallback('image', draw_circle)\n",
    "font = cv2.FONT_HERSHEY_SIMPLEX\n",
    "cv2.createTrackbar(\"value\", \"image\", 0, 255, nothing)\n",
    "\n",
    "\n",
    "while(1):\n",
    "    value = cv2.getTrackbarPos(\"value\", \"image\")\n",
    "    dst = cv2.addWeighted(img2, value/100, img2, 1 - value/100, 0)\n",
    "    for x in range(150):\n",
    "        for y in range(200):\n",
    "            img2.itemset((150+x,220+y,1), 10)\n",
    "            img2.itemset((150+x,220+y,2), value)\n",
    "    img2.item(10, 10, 2)\n",
    "    dsp = img2.copy()\n",
    "    cv2.putText(dst, \"Mouse position (\"+str(ix)+\", \"+str(iy)+\")\", (10, 40), font, 1, (0, 0, 0), 2, cv2.LINE_AA)\n",
    "    cv2.imshow('image', dst)\n",
    "    k = cv2.waitKey(1) & 0xFF\n",
    "    if k == ord('m'):\n",
    "        mode = not mode\n",
    "    elif k == 27:\n",
    "        break\n",
    "cv2.destroyAllWindows()"
   ]
  }
 ],
 "metadata": {
  "kernelspec": {
   "display_name": "Python 3.8.13 ('opencv')",
   "language": "python",
   "name": "python3"
  },
  "language_info": {
   "codemirror_mode": {
    "name": "ipython",
    "version": 3
   },
   "file_extension": ".py",
   "mimetype": "text/x-python",
   "name": "python",
   "nbconvert_exporter": "python",
   "pygments_lexer": "ipython3",
   "version": "3.8.13"
  },
  "orig_nbformat": 4,
  "vscode": {
   "interpreter": {
    "hash": "ae076835fef24844791ecb54b4dcc6e1903ff802fd9c8a91c6c5a71da3d5fce0"
   }
  }
 },
 "nbformat": 4,
 "nbformat_minor": 2
}
